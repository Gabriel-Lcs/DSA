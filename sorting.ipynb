{
 "cells": [
  {
   "cell_type": "markdown",
   "id": "9abd9fa2",
   "metadata": {},
   "source": [
    "# **BubbleSort**\n",
    "Tempo = O(n²)\n",
    "___\n",
    "Código do Galego:\n"
   ]
  },
  {
   "cell_type": "code",
   "execution_count": null,
   "id": "cd74eebb",
   "metadata": {},
   "outputs": [
    {
     "name": "stdout",
     "output_type": "stream",
     "text": [
      "[1, 3, 4, 5, 6]\n"
     ]
    }
   ],
   "source": [
    "def bubble_sort(arr):\n",
    "    n = len(arr)\n",
    "    for i in range(n):\n",
    "        for j in range(0, n - i - 1):\n",
    "            if arr[j] > arr[j + 1]:\n",
    "                arr[j], arr[j + 1] = arr[j + 1], arr[j]\n",
    "\n",
    "    print(arr)\n",
    "\n",
    "bubble_sort([5, 3, 1, 6, 4])"
   ]
  },
  {
   "cell_type": "markdown",
   "id": "b22a241a",
   "metadata": {},
   "source": [
    "# **QuickSort**\n",
    "\n",
    "Tempo = O(nlogn)\n",
    "___\n",
    "Cógido do Galego:"
   ]
  },
  {
   "cell_type": "code",
   "execution_count": 8,
   "id": "bfe9410b",
   "metadata": {},
   "outputs": [
    {
     "name": "stdout",
     "output_type": "stream",
     "text": [
      "Unsorted array: [10, 7, 8, 9, 1, 5]\n",
      "Sorted array: [1, 5, 7, 8, 9, 10]\n"
     ]
    }
   ],
   "source": [
    "def quicksort(arr):\n",
    "    def partition(low, high):\n",
    "        pivot = arr[high]\n",
    "        i = low - 1\n",
    "        for j in range(low, high):\n",
    "            if arr[j] <= pivot:\n",
    "                i += 1\n",
    "                arr[i], arr[j] = arr[j], arr[i]\n",
    "        arr[i + 1], arr[high] = arr[high], arr[i + 1]\n",
    "        return i + 1\n",
    "\n",
    "    def quicksort_recursive(low, high):\n",
    "        if low < high:\n",
    "            pi = partition(low, high)\n",
    "            quicksort_recursive(low, pi - 1)\n",
    "            quicksort_recursive(pi + 1, high)\n",
    "\n",
    "    quicksort_recursive(0, len(arr) - 1)\n",
    "    return arr\n",
    "\n",
    "\n",
    "test_array = [10, 7, 8, 9, 1, 5]\n",
    "print(\"Unsorted array:\", test_array)\n",
    "sorted_array = quicksort(test_array)\n",
    "print(\"Sorted array:\", sorted_array)"
   ]
  },
  {
   "cell_type": "markdown",
   "id": "33808c35",
   "metadata": {},
   "source": [
    "# **MergeSort**\n",
    "Tempo = O(nlogn)\n",
    "___\n",
    "Cógido do Galego:"
   ]
  },
  {
   "cell_type": "code",
   "execution_count": 1,
   "id": "9e7094e6",
   "metadata": {},
   "outputs": [
    {
     "name": "stdout",
     "output_type": "stream",
     "text": [
      "Unsorted Linked List: [4, 2, 1, 3]\n",
      "Sorted Linked List: [1, 2, 3, 4]\n"
     ]
    }
   ],
   "source": [
    "class ListNode:\n",
    "    def __init__(self, val=0, next=None):\n",
    "        self.val = val\n",
    "        self.next = next\n",
    "\n",
    "\n",
    "def findMiddle(head):\n",
    "    slow = head\n",
    "    fast = head.next\n",
    "    while fast and fast.next:\n",
    "        slow = slow.next\n",
    "        fast = fast.next.next\n",
    "    return slow\n",
    "\n",
    "\n",
    "def mergeTwoLists(l1, l2):\n",
    "    head = ListNode()\n",
    "    tail = head\n",
    "\n",
    "    while l1 and l2:\n",
    "        if l1.val < l2.val:\n",
    "            tail.next = l1\n",
    "            l1 = l1.next\n",
    "        else:\n",
    "            tail.next = l2\n",
    "            l2 = l2.next\n",
    "        tail = tail.next\n",
    "\n",
    "    tail.next = l1 or l2\n",
    "    return head.next\n",
    "\n",
    "\n",
    "def mergesort(head):\n",
    "    if not head or not head.next:\n",
    "        return head\n",
    "\n",
    "    middle = findMiddle(head)\n",
    "    after_middle = middle.next\n",
    "    middle.next = None\n",
    "\n",
    "    left = mergesort(head)\n",
    "    right = mergesort(after_middle)\n",
    "\n",
    "    return mergeTwoLists(left, right)\n",
    "\n",
    "\n",
    "def buildLinkedList(values):\n",
    "    if not values:\n",
    "        return None\n",
    "    head = ListNode(values[0])\n",
    "    current = head\n",
    "    for val in values[1:]:\n",
    "        current.next = ListNode(val)\n",
    "        current = current.next\n",
    "    return head\n",
    "\n",
    "\n",
    "def printLinkedList(head):\n",
    "    result = []\n",
    "    current = head\n",
    "    while current:\n",
    "        result.append(current.val)\n",
    "        current = current.next\n",
    "    print(result)\n",
    "\n",
    "\n",
    "values = [4, 2, 1, 3]\n",
    "print(\"Unsorted Linked List:\", values)\n",
    "head = buildLinkedList(values)\n",
    "sorted_head = mergesort(head)\n",
    "print(\"Sorted Linked List:\", end=\" \")\n",
    "printLinkedList(sorted_head)"
   ]
  }
 ],
 "metadata": {
  "kernelspec": {
   "display_name": "Python 3",
   "language": "python",
   "name": "python3"
  },
  "language_info": {
   "codemirror_mode": {
    "name": "ipython",
    "version": 3
   },
   "file_extension": ".py",
   "mimetype": "text/x-python",
   "name": "python",
   "nbconvert_exporter": "python",
   "pygments_lexer": "ipython3",
   "version": "3.13.5"
  }
 },
 "nbformat": 4,
 "nbformat_minor": 5
}
